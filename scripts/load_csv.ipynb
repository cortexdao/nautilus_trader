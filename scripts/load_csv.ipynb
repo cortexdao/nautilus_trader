{
 "cells": [
  {
   "cell_type": "code",
   "execution_count": 2,
   "metadata": {},
   "outputs": [],
   "source": [
    "from nautilus_trader.model.enums import BookAction\n",
    "from nautilus_trader.model.enums import BookType\n",
    "from nautilus_trader.model.orderbook.data import OrderBookDeltas\n",
    "from nautilus_trader.model.orderbook.data import Order\n",
    "from nautilus_trader.model.orderbook.data import OrderBookDelta\n",
    "from nautilus_trader.model.orderbook.book import OrderBook\n",
    "# from nautilus_trader.model.orderbook.book import L2OrderBook\n",
    "from nautilus_trader.model.identifiers import InstrumentId, Symbol, Venue\n",
    "from nautilus_trader.backtest.data.providers import TestInstrumentProvider\n",
    "from collections import defaultdict\n",
    "from nautilus_trader.examples.strategies.market_maker import MarketMaker\n",
    "from nautilus_trader.backtest.engine import BacktestEngine\n",
    "from nautilus_trader.backtest.engine import BacktestEngineConfig\n",
    "from nautilus_trader.model.identifiers import Venue\n",
    "from nautilus_trader.model.objects import Money\n",
    "from nautilus_trader.model.enums import OMSType\n",
    "from nautilus_trader.model.enums import AccountType\n",
    "from nautilus_trader.model.currencies import USD, USDT, BTC\n",
    "from decimal import Decimal\n",
    "\n",
    "import pandas as pd"
   ]
  },
  {
   "cell_type": "code",
   "execution_count": 3,
   "metadata": {},
   "outputs": [
    {
     "name": "stderr",
     "output_type": "stream",
     "text": [
      "/var/folders/c7/8ppmyxcn6znc4ql4nfmfksy80000gn/T/ipykernel_59030/400293680.py:5: FutureWarning: The error_bad_lines argument has been deprecated and will be removed in a future version. Use on_bad_lines in the future.\n",
      "\n",
      "\n",
      "  data_df = pd.read_csv(data_file, nrows=10000, compression='gzip', error_bad_lines=False)\n"
     ]
    }
   ],
   "source": [
    "bin_btcusdt_ticks_file = ''\n",
    "data_file = '../../data/l2_data_extract_discord/BINANCE-BTC-USDT-incremental_l2_book-2022-10-13-00-00-00-2022-10-14-00-00-00.csv.gz'\n",
    "\n",
    "data_file = '/Users/andrewgoldberg/Projects/hummingbot-backtest/data/l2_data_extract_discord/BINANCE-BTC-USDT-incremental_l2_book-2022-10-13-00-00-00-2022-10-14-00-00-00.csv.gz'\n",
    "data_df = pd.read_csv(data_file, nrows=10000, compression='gzip', error_bad_lines=False)"
   ]
  },
  {
   "cell_type": "code",
   "execution_count": 4,
   "metadata": {},
   "outputs": [
    {
     "data": {
      "text/html": [
       "<div>\n",
       "<style scoped>\n",
       "    .dataframe tbody tr th:only-of-type {\n",
       "        vertical-align: middle;\n",
       "    }\n",
       "\n",
       "    .dataframe tbody tr th {\n",
       "        vertical-align: top;\n",
       "    }\n",
       "\n",
       "    .dataframe thead th {\n",
       "        text-align: right;\n",
       "    }\n",
       "</style>\n",
       "<table border=\"1\" class=\"dataframe\">\n",
       "  <thead>\n",
       "    <tr style=\"text-align: right;\">\n",
       "      <th></th>\n",
       "      <th>Unnamed: 0</th>\n",
       "      <th>exchange</th>\n",
       "      <th>symbol</th>\n",
       "      <th>timestamp</th>\n",
       "      <th>local_timestamp</th>\n",
       "      <th>is_snapshot</th>\n",
       "      <th>side</th>\n",
       "      <th>price</th>\n",
       "      <th>amount</th>\n",
       "    </tr>\n",
       "  </thead>\n",
       "  <tbody>\n",
       "    <tr>\n",
       "      <th>0</th>\n",
       "      <td>0</td>\n",
       "      <td>BINANCE</td>\n",
       "      <td>BTC-USDT</td>\n",
       "      <td>1665619199929000</td>\n",
       "      <td>1665619200040000</td>\n",
       "      <td>False</td>\n",
       "      <td>bid</td>\n",
       "      <td>19155.40</td>\n",
       "      <td>0.00000</td>\n",
       "    </tr>\n",
       "    <tr>\n",
       "      <th>1</th>\n",
       "      <td>1</td>\n",
       "      <td>BINANCE</td>\n",
       "      <td>BTC-USDT</td>\n",
       "      <td>1665619199929000</td>\n",
       "      <td>1665619200040000</td>\n",
       "      <td>False</td>\n",
       "      <td>bid</td>\n",
       "      <td>19155.09</td>\n",
       "      <td>0.02510</td>\n",
       "    </tr>\n",
       "    <tr>\n",
       "      <th>2</th>\n",
       "      <td>2</td>\n",
       "      <td>BINANCE</td>\n",
       "      <td>BTC-USDT</td>\n",
       "      <td>1665619199929000</td>\n",
       "      <td>1665619200040000</td>\n",
       "      <td>False</td>\n",
       "      <td>bid</td>\n",
       "      <td>19154.49</td>\n",
       "      <td>0.00500</td>\n",
       "    </tr>\n",
       "    <tr>\n",
       "      <th>3</th>\n",
       "      <td>3</td>\n",
       "      <td>BINANCE</td>\n",
       "      <td>BTC-USDT</td>\n",
       "      <td>1665619199929000</td>\n",
       "      <td>1665619200040000</td>\n",
       "      <td>False</td>\n",
       "      <td>bid</td>\n",
       "      <td>19154.48</td>\n",
       "      <td>0.00000</td>\n",
       "    </tr>\n",
       "    <tr>\n",
       "      <th>4</th>\n",
       "      <td>4</td>\n",
       "      <td>BINANCE</td>\n",
       "      <td>BTC-USDT</td>\n",
       "      <td>1665619199929000</td>\n",
       "      <td>1665619200040000</td>\n",
       "      <td>False</td>\n",
       "      <td>bid</td>\n",
       "      <td>19154.47</td>\n",
       "      <td>0.00000</td>\n",
       "    </tr>\n",
       "    <tr>\n",
       "      <th>...</th>\n",
       "      <td>...</td>\n",
       "      <td>...</td>\n",
       "      <td>...</td>\n",
       "      <td>...</td>\n",
       "      <td>...</td>\n",
       "      <td>...</td>\n",
       "      <td>...</td>\n",
       "      <td>...</td>\n",
       "      <td>...</td>\n",
       "    </tr>\n",
       "    <tr>\n",
       "      <th>9995</th>\n",
       "      <td>9995</td>\n",
       "      <td>BINANCE</td>\n",
       "      <td>BTC-USDT</td>\n",
       "      <td>1665619220339000</td>\n",
       "      <td>1665619220453000</td>\n",
       "      <td>False</td>\n",
       "      <td>ask</td>\n",
       "      <td>19166.33</td>\n",
       "      <td>1.01106</td>\n",
       "    </tr>\n",
       "    <tr>\n",
       "      <th>9996</th>\n",
       "      <td>9996</td>\n",
       "      <td>BINANCE</td>\n",
       "      <td>BTC-USDT</td>\n",
       "      <td>1665619220339000</td>\n",
       "      <td>1665619220453000</td>\n",
       "      <td>False</td>\n",
       "      <td>ask</td>\n",
       "      <td>19168.13</td>\n",
       "      <td>0.00000</td>\n",
       "    </tr>\n",
       "    <tr>\n",
       "      <th>9997</th>\n",
       "      <td>9997</td>\n",
       "      <td>BINANCE</td>\n",
       "      <td>BTC-USDT</td>\n",
       "      <td>1665619220339000</td>\n",
       "      <td>1665619220453000</td>\n",
       "      <td>False</td>\n",
       "      <td>ask</td>\n",
       "      <td>19168.74</td>\n",
       "      <td>0.00522</td>\n",
       "    </tr>\n",
       "    <tr>\n",
       "      <th>9998</th>\n",
       "      <td>9998</td>\n",
       "      <td>BINANCE</td>\n",
       "      <td>BTC-USDT</td>\n",
       "      <td>1665619220339000</td>\n",
       "      <td>1665619220453000</td>\n",
       "      <td>False</td>\n",
       "      <td>ask</td>\n",
       "      <td>19168.86</td>\n",
       "      <td>0.00000</td>\n",
       "    </tr>\n",
       "    <tr>\n",
       "      <th>9999</th>\n",
       "      <td>9999</td>\n",
       "      <td>BINANCE</td>\n",
       "      <td>BTC-USDT</td>\n",
       "      <td>1665619220339000</td>\n",
       "      <td>1665619220453000</td>\n",
       "      <td>False</td>\n",
       "      <td>ask</td>\n",
       "      <td>19181.15</td>\n",
       "      <td>0.08496</td>\n",
       "    </tr>\n",
       "  </tbody>\n",
       "</table>\n",
       "<p>10000 rows × 9 columns</p>\n",
       "</div>"
      ],
      "text/plain": [
       "      Unnamed: 0 exchange    symbol         timestamp   local_timestamp  \\\n",
       "0              0  BINANCE  BTC-USDT  1665619199929000  1665619200040000   \n",
       "1              1  BINANCE  BTC-USDT  1665619199929000  1665619200040000   \n",
       "2              2  BINANCE  BTC-USDT  1665619199929000  1665619200040000   \n",
       "3              3  BINANCE  BTC-USDT  1665619199929000  1665619200040000   \n",
       "4              4  BINANCE  BTC-USDT  1665619199929000  1665619200040000   \n",
       "...          ...      ...       ...               ...               ...   \n",
       "9995        9995  BINANCE  BTC-USDT  1665619220339000  1665619220453000   \n",
       "9996        9996  BINANCE  BTC-USDT  1665619220339000  1665619220453000   \n",
       "9997        9997  BINANCE  BTC-USDT  1665619220339000  1665619220453000   \n",
       "9998        9998  BINANCE  BTC-USDT  1665619220339000  1665619220453000   \n",
       "9999        9999  BINANCE  BTC-USDT  1665619220339000  1665619220453000   \n",
       "\n",
       "      is_snapshot side     price   amount  \n",
       "0           False  bid  19155.40  0.00000  \n",
       "1           False  bid  19155.09  0.02510  \n",
       "2           False  bid  19154.49  0.00500  \n",
       "3           False  bid  19154.48  0.00000  \n",
       "4           False  bid  19154.47  0.00000  \n",
       "...           ...  ...       ...      ...  \n",
       "9995        False  ask  19166.33  1.01106  \n",
       "9996        False  ask  19168.13  0.00000  \n",
       "9997        False  ask  19168.74  0.00522  \n",
       "9998        False  ask  19168.86  0.00000  \n",
       "9999        False  ask  19181.15  0.08496  \n",
       "\n",
       "[10000 rows x 9 columns]"
      ]
     },
     "execution_count": 4,
     "metadata": {},
     "output_type": "execute_result"
    }
   ],
   "source": [
    "data_df"
   ]
  },
  {
   "cell_type": "code",
   "execution_count": 5,
   "metadata": {},
   "outputs": [],
   "source": [
    "\n",
    "side_to_code = {\n",
    "    'bid': 1,\n",
    "    'ask': 2\n",
    "}"
   ]
  },
  {
   "cell_type": "code",
   "execution_count": 6,
   "metadata": {},
   "outputs": [
    {
     "data": {
      "text/plain": [
       "Unnamed: 0                        0\n",
       "exchange                    BINANCE\n",
       "symbol                     BTC-USDT\n",
       "timestamp          1665619199929000\n",
       "local_timestamp    1665619200040000\n",
       "is_snapshot                   False\n",
       "side                            bid\n",
       "price                       19155.4\n",
       "amount                          0.0\n",
       "Name: 0, dtype: object"
      ]
     },
     "execution_count": 6,
     "metadata": {},
     "output_type": "execute_result"
    }
   ],
   "source": [
    "data_df.iloc[0, :]"
   ]
  },
  {
   "cell_type": "code",
   "execution_count": 7,
   "metadata": {},
   "outputs": [],
   "source": [
    "BIN_BTCUSDT = TestInstrumentProvider.btcusdt_binance()"
   ]
  },
  {
   "cell_type": "code",
   "execution_count": 8,
   "metadata": {},
   "outputs": [],
   "source": [
    "alldeltas = []\n",
    "for ts in data_df.timestamp.unique():\n",
    "    deltas = []\n",
    "    for idx, row in data_df[data_df.timestamp==ts].iterrows():\n",
    "        delta_ = OrderBookDelta(\n",
    "            instrument_id=BIN_BTCUSDT.id,\n",
    "            book_type=BookType.L2_MBP,\n",
    "            action=BookAction.DELETE if row.amount == 0 else BookAction.UPDATE,\n",
    "            order=Order(\n",
    "                price=row['price'],\n",
    "                size=row['amount'],\n",
    "                side=side_to_code[row['side']]\n",
    "            ),\n",
    "            ts_event=ts*1000,\n",
    "            ts_init=ts*1000\n",
    "        )\n",
    "        deltas.append(delta_)\n",
    "    alldeltas.append(\n",
    "        OrderBookDeltas(\n",
    "            book_type=BookType.L2_MBP,\n",
    "            instrument_id=BIN_BTCUSDT.id,\n",
    "            deltas=deltas,\n",
    "            ts_event=ts*1000,\n",
    "            ts_init=ts*1000,\n",
    "        )\n",
    "        )\n"
   ]
  },
  {
   "cell_type": "code",
   "execution_count": 9,
   "metadata": {},
   "outputs": [],
   "source": [
    "# from nautilus_trader.persistence.catalog import ParquetDataCatalog\n",
    "\n",
    "# catalog = ParquetDataCatalog(\"./\")\n",
    "# catalog.instruments()\n",
    "\n",
    "# write_objects(catalog, alldeltas)\n",
    "# write_objects(catalog, [BIN_BTCUSDT])"
   ]
  },
  {
   "cell_type": "code",
   "execution_count": 10,
   "metadata": {},
   "outputs": [],
   "source": [
    "# catalog.order_book_deltas()"
   ]
  },
  {
   "cell_type": "code",
   "execution_count": 11,
   "metadata": {},
   "outputs": [
    {
     "data": {
      "text/plain": [
       "OrderBookDeltas('BTCUSDT.BINANCE', book_type=L2_MBP, [OrderBookDelta('BTCUSDT.BINANCE', book_type=L2_MBP, action=DELETE, order=Order(19155.4, 0.0, BUY, 7989e4d3-0007-49a9-9233-1597d3c2d7a8), update_id=0, ts_event=1665619199929000000, ts_init=1665619199929000000), OrderBookDelta('BTCUSDT.BINANCE', book_type=L2_MBP, action=UPDATE, order=Order(19155.09, 0.0251, BUY, 90c1265b-f4a8-4973-aee2-e410c308ac39), update_id=0, ts_event=1665619199929000000, ts_init=1665619199929000000), OrderBookDelta('BTCUSDT.BINANCE', book_type=L2_MBP, action=UPDATE, order=Order(19154.49, 0.005, BUY, 0e3eab78-0d31-45ab-ac00-600fc6c9034e), update_id=0, ts_event=1665619199929000000, ts_init=1665619199929000000), OrderBookDelta('BTCUSDT.BINANCE', book_type=L2_MBP, action=DELETE, order=Order(19154.48, 0.0, BUY, ed011223-0821-466a-824f-90931415e029), update_id=0, ts_event=1665619199929000000, ts_init=1665619199929000000), OrderBookDelta('BTCUSDT.BINANCE', book_type=L2_MBP, action=DELETE, order=Order(19154.47, 0.0, BUY, 1728f9dd-ab60-4ed5-8fe0-7f800c5907c3), update_id=0, ts_event=1665619199929000000, ts_init=1665619199929000000), OrderBookDelta('BTCUSDT.BINANCE', book_type=L2_MBP, action=UPDATE, order=Order(19154.34, 0.00521, BUY, 0ba70401-5bd4-44f3-b527-d2f8d8ea8368), update_id=0, ts_event=1665619199929000000, ts_init=1665619199929000000), OrderBookDelta('BTCUSDT.BINANCE', book_type=L2_MBP, action=UPDATE, order=Order(19154.26, 0.07555, BUY, 30c8f629-ce96-4bad-9a38-cfc8b123fa51), update_id=0, ts_event=1665619199929000000, ts_init=1665619199929000000), OrderBookDelta('BTCUSDT.BINANCE', book_type=L2_MBP, action=UPDATE, order=Order(19153.87, 0.0454, BUY, 23010b6f-a686-4162-a298-34d85d78a49d), update_id=0, ts_event=1665619199929000000, ts_init=1665619199929000000), OrderBookDelta('BTCUSDT.BINANCE', book_type=L2_MBP, action=UPDATE, order=Order(19152.59, 0.03641, BUY, 64e4d868-3851-4a32-92ee-626b545cc613), update_id=0, ts_event=1665619199929000000, ts_init=1665619199929000000), OrderBookDelta('BTCUSDT.BINANCE', book_type=L2_MBP, action=UPDATE, order=Order(19151.46, 0.00261, BUY, b95150af-8f93-48f1-9bdd-63c1c9ec40c1), update_id=0, ts_event=1665619199929000000, ts_init=1665619199929000000), OrderBookDelta('BTCUSDT.BINANCE', book_type=L2_MBP, action=DELETE, order=Order(19151.33, 0.0, BUY, 4e8462dc-38c4-4fd5-87f3-f9b81e63bd5f), update_id=0, ts_event=1665619199929000000, ts_init=1665619199929000000), OrderBookDelta('BTCUSDT.BINANCE', book_type=L2_MBP, action=UPDATE, order=Order(19151.24, 0.01614, BUY, 5f80e286-92ec-4821-a965-0bfee78d845c), update_id=0, ts_event=1665619199929000000, ts_init=1665619199929000000), OrderBookDelta('BTCUSDT.BINANCE', book_type=L2_MBP, action=UPDATE, order=Order(19147.74, 0.0396, BUY, d03a4ee7-260b-4bdc-8303-98e5189ab270), update_id=0, ts_event=1665619199929000000, ts_init=1665619199929000000), OrderBookDelta('BTCUSDT.BINANCE', book_type=L2_MBP, action=UPDATE, order=Order(19155.4, 0.0019, SELL, ebf4c526-9e95-4e75-b8b5-0d786e8e61c5), update_id=0, ts_event=1665619199929000000, ts_init=1665619199929000000), OrderBookDelta('BTCUSDT.BINANCE', book_type=L2_MBP, action=UPDATE, order=Order(19155.41, 0.02325, SELL, 0f93945a-dfbf-4d00-96d2-d550c7f14941), update_id=0, ts_event=1665619199929000000, ts_init=1665619199929000000), OrderBookDelta('BTCUSDT.BINANCE', book_type=L2_MBP, action=UPDATE, order=Order(19156.84, 0.01714, SELL, 7214b7b6-8695-4449-889c-72ec8708c4aa), update_id=0, ts_event=1665619199929000000, ts_init=1665619199929000000), OrderBookDelta('BTCUSDT.BINANCE', book_type=L2_MBP, action=DELETE, order=Order(19156.95, 0.0, SELL, fdc9b908-5456-4408-a07e-ace19ff91723), update_id=0, ts_event=1665619199929000000, ts_init=1665619199929000000), OrderBookDelta('BTCUSDT.BINANCE', book_type=L2_MBP, action=UPDATE, order=Order(19157.79, 0.001, SELL, 7eb1e1e0-202e-40da-a41e-9d13898370b2), update_id=0, ts_event=1665619199929000000, ts_init=1665619199929000000), OrderBookDelta('BTCUSDT.BINANCE', book_type=L2_MBP, action=UPDATE, order=Order(19159.0, 2.05224, SELL, 0e648586-1267-41e9-a4c5-df6e1621341e), update_id=0, ts_event=1665619199929000000, ts_init=1665619199929000000), OrderBookDelta('BTCUSDT.BINANCE', book_type=L2_MBP, action=UPDATE, order=Order(19159.02, 0.01614, SELL, 555ce5b7-16e1-4654-bf11-5feee8143bcf), update_id=0, ts_event=1665619199929000000, ts_init=1665619199929000000), OrderBookDelta('BTCUSDT.BINANCE', book_type=L2_MBP, action=UPDATE, order=Order(19160.7, 1.12184, SELL, 26ff6f75-1539-4261-bb0b-bfdb1c142cdf), update_id=0, ts_event=1665619199929000000, ts_init=1665619199929000000), OrderBookDelta('BTCUSDT.BINANCE', book_type=L2_MBP, action=UPDATE, order=Order(19174.56, 0.001, SELL, e5fa1ba4-37c8-4ab5-869a-083c9cac6401), update_id=0, ts_event=1665619199929000000, ts_init=1665619199929000000), OrderBookDelta('BTCUSDT.BINANCE', book_type=L2_MBP, action=DELETE, order=Order(19332.47, 0.0, SELL, 4d6b32c0-78a6-40d7-b01d-3b3b65a0d4f2), update_id=0, ts_event=1665619199929000000, ts_init=1665619199929000000)], update_id=0, ts_event=1665619199929000000, ts_init=1665619199929000000)"
      ]
     },
     "execution_count": 11,
     "metadata": {},
     "output_type": "execute_result"
    }
   ],
   "source": [
    "alldeltas[0]"
   ]
  },
  {
   "cell_type": "code",
   "execution_count": 12,
   "metadata": {},
   "outputs": [
    {
     "data": {
      "text/plain": [
       "CurrencyPair(id=BTCUSDT.BINANCE, native_symbol=BTCUSDT, asset_class=CRYPTO, asset_type=SPOT, quote_currency=USDT, is_inverse=False, price_precision=2, price_increment=0.01, size_precision=6, size_increment=0.000001, multiplier=1, lot_size=None, margin_init=0, margin_maint=0, maker_fee=0.001, taker_fee=0.001, info=None)"
      ]
     },
     "execution_count": 12,
     "metadata": {},
     "output_type": "execute_result"
    }
   ],
   "source": [
    "BIN_BTCUSDT"
   ]
  },
  {
   "cell_type": "code",
   "execution_count": 13,
   "metadata": {},
   "outputs": [],
   "source": [
    "print('start')\n",
    "# Configure backtest engine\n",
    "config = BacktestEngineConfig(\n",
    "    trader_id=\"BACKTESTER-001\",\n",
    ")\n",
    "print('config')\n",
    "# Build the backtest engine\n",
    "engine = BacktestEngine(config=config)\n",
    "print('set config')\n",
    "# Add a trading venue (multiple venues possible)\n",
    "engine.add_venue(\n",
    "    venue=BIN_BTCUSDT.venue,\n",
    "    oms_type=OMSType.NETTING,\n",
    "    account_type=AccountType.CASH,\n",
    "    book_type=2,\n",
    "    base_currency=BTC,  # Standard single-currency account\n",
    "    starting_balances=[Money(10_000_000, BTC)],  # Single-currency or multi-currency accounts\n",
    ")\n",
    "print('add venue')\n",
    "# Add instruments\n",
    "engine.add_instrument(BIN_BTCUSDT)\n",
    "print('add instrument')\n",
    "# Add data\n",
    "engine.add_data(alldeltas)\n",
    "print('add deltas data')\n",
    "strategy = MarketMaker(\n",
    "    instrument_id = BIN_BTCUSDT.id,\n",
    "    trade_size = Decimal(1),\n",
    "    max_size = Decimal(400_000_000),\n",
    ")\n",
    "print('set marketmaker strateg')\n",
    "# strategy = VolatilityMarketMaker(config=config)\n",
    "engine.add_strategy(strategy=strategy)\n",
    "print('add strategy')\n",
    "# input(\"Press Enter to continue...\")  # noqa (always Python 3)\n",
    "\n",
    "# Run the engine (from start to end of data)\n",
    "engine.run_streaming()\n",
    "print('run streaming')\n",
    "# Optionally view reports\n",
    "with pd.option_context(\n",
    "    \"display.max_rows\",\n",
    "    100,\n",
    "    \"display.max_columns\",\n",
    "    None,\n",
    "    \"display.width\",\n",
    "    300,\n",
    "):\n",
    "    print(engine.trader.generate_account_report(BIN_BTCUSDT))\n",
    "    print(engine.trader.generate_order_fills_report())\n",
    "    print(engine.trader.generate_positions_report())\n",
    "\n",
    "# For repeated backtest runs make sure to reset the engine\n",
    "engine.reset()\n",
    "\n",
    "# Good practice to dispose of the object when done\n",
    "engine.dispose()"
   ]
  },
  {
   "cell_type": "code",
   "execution_count": null,
   "metadata": {},
   "outputs": [],
   "source": []
  }
 ],
 "metadata": {
  "interpreter": {
   "hash": "55e1abd074c71c17ea9aa0e5e3b5358a934d2f007051cc43ea0f74fa47e5242d"
  },
  "kernelspec": {
   "display_name": "Python 3.9.10 ('web3')",
   "language": "python",
   "name": "python3"
  },
  "language_info": {
   "codemirror_mode": {
    "name": "ipython",
    "version": 3
   },
   "file_extension": ".py",
   "mimetype": "text/x-python",
   "name": "python",
   "nbconvert_exporter": "python",
   "pygments_lexer": "ipython3",
   "version": "3.9.10"
  },
  "orig_nbformat": 4
 },
 "nbformat": 4,
 "nbformat_minor": 2
}

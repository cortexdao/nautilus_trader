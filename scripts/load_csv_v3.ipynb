{
 "cells": [
  {
   "cell_type": "code",
   "execution_count": 23,
   "metadata": {},
   "outputs": [],
   "source": [
    "from nautilus_trader.model.enums import BookAction\n",
    "from nautilus_trader.model.enums import BookType\n",
    "from nautilus_trader.model.orderbook.data import OrderBookDeltas\n",
    "from nautilus_trader.model.orderbook.data import Order\n",
    "from nautilus_trader.model.orderbook.data import OrderBookDelta\n",
    "from nautilus_trader.model.orderbook.book import OrderBook\n",
    "# from nautilus_trader.model.orderbook.book import L2OrderBook\n",
    "from nautilus_trader.model.identifiers import InstrumentId, Symbol, Venue\n",
    "from nautilus_trader.backtest.data.providers import TestInstrumentProvider\n",
    "from collections import defaultdict\n",
    "from nautilus_trader.examples.strategies.market_maker import MarketMaker\n",
    "from nautilus_trader.backtest.engine import BacktestEngine\n",
    "from nautilus_trader.backtest.engine import BacktestEngineConfig\n",
    "from nautilus_trader.model.identifiers import Venue\n",
    "from nautilus_trader.model.objects import Money\n",
    "from nautilus_trader.model.enums import OMSType\n",
    "from nautilus_trader.model.enums import AccountType\n",
    "from nautilus_trader.model.currencies import USD, USDT, BTC\n",
    "from nautilus_trader.model.objects import Price, Quantity\n",
    "from nautilus_trader.backtest.node import BacktestNode, BacktestVenueConfig, BacktestDataConfig, BacktestRunConfig, BacktestEngineConfig\n",
    "from nautilus_trader.config.common import ImportableStrategyConfig, StrategyConfig\n",
    "\n",
    "from decimal import Decimal\n",
    "\n",
    "import pandas as pd"
   ]
  },
  {
   "cell_type": "code",
   "execution_count": 24,
   "metadata": {},
   "outputs": [],
   "source": [
    "bin_btcusdt_ticks_file = ''\n",
    "# data_file = '../../data/l2_data_extract_discord/BINANCE-BTC-USDT-incremental_l2_book-2022-10-13-00-00-00-2022-10-14-00-00-00.csv.gz'\n",
    "\n",
    "data_file = '/Users/andrewgoldberg/Projects/hummingbot-backtest/data/l2_data_extract_discord/BINANCE-BTC-USDT-incremental_l2_book-2022-10-13-00-00-00-2022-10-14-00-00-00.csv.gz'\n",
    "# data_df = pd.read_csv(data_file, chunksize=100000, compression='gzip', error_bad_lines=False)\n",
    "# data_df = pd.read_csv(data_file, nrows=100000, compression='gzip', error_bad_lines=False)"
   ]
  },
  {
   "cell_type": "code",
   "execution_count": 25,
   "metadata": {},
   "outputs": [
    {
     "data": {
      "text/html": [
       "<div>\n",
       "<style scoped>\n",
       "    .dataframe tbody tr th:only-of-type {\n",
       "        vertical-align: middle;\n",
       "    }\n",
       "\n",
       "    .dataframe tbody tr th {\n",
       "        vertical-align: top;\n",
       "    }\n",
       "\n",
       "    .dataframe thead th {\n",
       "        text-align: right;\n",
       "    }\n",
       "</style>\n",
       "<table border=\"1\" class=\"dataframe\">\n",
       "  <thead>\n",
       "    <tr style=\"text-align: right;\">\n",
       "      <th></th>\n",
       "      <th>id</th>\n",
       "      <th>native_symbol</th>\n",
       "      <th>base_currency</th>\n",
       "      <th>quote_currency</th>\n",
       "      <th>price_precision</th>\n",
       "      <th>size_precision</th>\n",
       "      <th>price_increment</th>\n",
       "      <th>size_increment</th>\n",
       "      <th>lot_size</th>\n",
       "      <th>max_quantity</th>\n",
       "      <th>...</th>\n",
       "      <th>min_notional</th>\n",
       "      <th>max_price</th>\n",
       "      <th>min_price</th>\n",
       "      <th>margin_init</th>\n",
       "      <th>margin_maint</th>\n",
       "      <th>maker_fee</th>\n",
       "      <th>taker_fee</th>\n",
       "      <th>info</th>\n",
       "      <th>ts_event</th>\n",
       "      <th>ts_init</th>\n",
       "    </tr>\n",
       "  </thead>\n",
       "  <tbody>\n",
       "    <tr>\n",
       "      <th>0</th>\n",
       "      <td>BTCUSDT.BINANCE</td>\n",
       "      <td>BTCUSDT</td>\n",
       "      <td>BTC</td>\n",
       "      <td>USDT</td>\n",
       "      <td>2</td>\n",
       "      <td>6</td>\n",
       "      <td>0.01</td>\n",
       "      <td>0.000001</td>\n",
       "      <td>NaN</td>\n",
       "      <td>9000.000000</td>\n",
       "      <td>...</td>\n",
       "      <td>10.00000000 USDT</td>\n",
       "      <td>1000000.00</td>\n",
       "      <td>0.01</td>\n",
       "      <td>0</td>\n",
       "      <td>0</td>\n",
       "      <td>0.001</td>\n",
       "      <td>0.001</td>\n",
       "      <td>None</td>\n",
       "      <td>0</td>\n",
       "      <td>0</td>\n",
       "    </tr>\n",
       "  </tbody>\n",
       "</table>\n",
       "<p>1 rows × 22 columns</p>\n",
       "</div>"
      ],
      "text/plain": [
       "                id native_symbol base_currency quote_currency  \\\n",
       "0  BTCUSDT.BINANCE       BTCUSDT           BTC           USDT   \n",
       "\n",
       "   price_precision  size_precision price_increment size_increment lot_size  \\\n",
       "0                2               6            0.01       0.000001      NaN   \n",
       "\n",
       "  max_quantity  ...      min_notional   max_price min_price margin_init  \\\n",
       "0  9000.000000  ...  10.00000000 USDT  1000000.00      0.01           0   \n",
       "\n",
       "  margin_maint maker_fee taker_fee  info ts_event ts_init  \n",
       "0            0     0.001     0.001  None        0       0  \n",
       "\n",
       "[1 rows x 22 columns]"
      ]
     },
     "execution_count": 25,
     "metadata": {},
     "output_type": "execute_result"
    }
   ],
   "source": [
    "import os, shutil\n",
    "CATALOG_PATH = os.getcwd() + \"/catalog\"\n",
    "\n",
    "# Clear if it already exists, then create fresh\n",
    "# if os.path.exists(CATALOG_PATH):\n",
    "#     shutil.rmtree(CATALOG_PATH)\n",
    "# os.mkdir(CATALOG_PATH)\n",
    "\n",
    "from nautilus_trader.persistence.catalog import ParquetDataCatalog\n",
    "catalog = ParquetDataCatalog(CATALOG_PATH)\n",
    "\n",
    "from nautilus_trader.persistence.external.core import process_files, write_objects\n",
    "from nautilus_trader.backtest.data.providers import TestInstrumentProvider\n",
    "\n",
    "BIN_BTCUSDT = TestInstrumentProvider.btcusdt_binance()\n",
    "\n",
    "from nautilus_trader.persistence.external.core import write_objects\n",
    "\n",
    "# write_objects(catalog, [BIN_BTCUSDT])\n",
    "\n",
    "catalog.instruments()\n"
   ]
  },
  {
   "cell_type": "code",
   "execution_count": 26,
   "metadata": {},
   "outputs": [
    {
     "data": {
      "text/plain": [
       "['currency_pair', 'order_book_data']"
      ]
     },
     "execution_count": 26,
     "metadata": {},
     "output_type": "execute_result"
    }
   ],
   "source": [
    "catalog.list_data_types()"
   ]
  },
  {
   "cell_type": "code",
   "execution_count": 27,
   "metadata": {},
   "outputs": [
    {
     "data": {
      "text/plain": [
       "CurrencyPair(id=BTCUSDT.BINANCE, native_symbol=BTCUSDT, asset_class=CRYPTO, asset_type=SPOT, quote_currency=USDT, is_inverse=False, price_precision=2, price_increment=0.01, size_precision=6, size_increment=0.000001, multiplier=1, lot_size=None, margin_init=0, margin_maint=0, maker_fee=0.001, taker_fee=0.001, info=None)"
      ]
     },
     "execution_count": 27,
     "metadata": {},
     "output_type": "execute_result"
    }
   ],
   "source": [
    "BIN_BTCUSDT"
   ]
  },
  {
   "cell_type": "code",
   "execution_count": 28,
   "metadata": {},
   "outputs": [
    {
     "data": {
      "text/plain": [
       "Venue('BINANCE')"
      ]
     },
     "execution_count": 28,
     "metadata": {},
     "output_type": "execute_result"
    }
   ],
   "source": [
    "BIN_BTCUSDT.venue"
   ]
  },
  {
   "cell_type": "code",
   "execution_count": 29,
   "metadata": {},
   "outputs": [
    {
     "data": {
      "text/plain": [
       "StrategyConfig(strategy_id=None, order_id_tag=None, oms_type=None)"
      ]
     },
     "execution_count": 29,
     "metadata": {},
     "output_type": "execute_result"
    }
   ],
   "source": [
    "StrategyConfig()"
   ]
  },
  {
   "cell_type": "code",
   "execution_count": 50,
   "metadata": {},
   "outputs": [],
   "source": [
    "# print('start')\n",
    "# Configure backtest engine\n",
    "# config = BacktestEngineConfig(\n",
    "#     trader_id=\"BACKTESTER-001\",\n",
    "# )\n",
    "# print('config')\n",
    "# Build the backtest engine\n",
    "# engine = BacktestEngine(config=config)\n",
    "# print('set config')\n",
    "# Add a trading venue (multiple venues possible)\n",
    "venues_config=[\n",
    "    BacktestVenueConfig(\n",
    "        name=\"BINANCE\",\n",
    "        oms_type=\"NETTING\",\n",
    "        account_type=\"CASH\",\n",
    "        book_type=\"L2_MBP\",\n",
    "        # base_currency='BTC',  # Standard single-currency account\n",
    "        starting_balances=[\"10000 BTC\", \"100000 USDT\"],  # Single-currency or multi-currency accounts\n",
    "    )\n",
    "]\n",
    "data_config=[\n",
    "    BacktestDataConfig(\n",
    "        catalog_path=CATALOG_PATH,\n",
    "        data_cls=OrderBookDeltas,\n",
    "        instrument_id=BIN_BTCUSDT.id.value\n",
    "    )\n",
    "]\n",
    "strategy = MarketMaker\n",
    "strategy_config = ImportableStrategyConfig(\n",
    "    strategy_path=f\"{strategy.__module__}:{strategy.__name__}\",\n",
    "    config_path=f\"{strategy.__module__}:{strategy.__name__}Config\",\n",
    "    config=dict(\n",
    "        instrument_id = str(BIN_BTCUSDT.id.value),\n",
    "        trade_size = Decimal(0.003),\n",
    "        max_size = Decimal(400_000_000),\n",
    "    ),\n",
    "),\n",
    "\n",
    "# strategy = MarketMaker(\n",
    "#     instrument_id = BIN_BTCUSDT.id,\n",
    "#     trade_size = Decimal(0.003),\n",
    "#     max_size = Decimal(400_000_000),\n",
    "# )\n",
    "# strategies = [strategy]\n",
    "engine_config = BacktestEngineConfig(\n",
    "    stratregies=[strategy_config],\n",
    "    run_analysis=True\n",
    ")\n",
    "config = BacktestRunConfig(\n",
    "    engine=engine_config,\n",
    "    data=data_config,\n",
    "    venues=venues_config,\n",
    ")\n",
    "\n",
    "\n",
    "\n",
    "\n",
    "# # Run the engine (from start to end of data)\n",
    "# engine.run_streaming()\n",
    "# print('run streaming')\n",
    "# # Optionally view reports\n",
    "# with pd.option_context(\n",
    "#     \"display.max_rows\",\n",
    "#     100,\n",
    "#     \"display.max_columns\",\n",
    "#     None,\n",
    "#     \"display.width\",\n",
    "#     300,\n",
    "# ):\n",
    "#     print(engine.trader.generate_account_report(BIN_BTCUSDT))\n",
    "#     print(engine.trader.generate_order_fills_report())\n",
    "#     print(engine.trader.generate_positions_report())\n",
    "\n",
    "# # For repeated backtest runs make sure to reset the engine\n",
    "# engine.reset()\n",
    "\n",
    "# # Good practice to dispose of the object when done\n",
    "# engine.dispose()"
   ]
  },
  {
   "cell_type": "code",
   "execution_count": 51,
   "metadata": {},
   "outputs": [
    {
     "data": {
      "text/plain": [
       "[BacktestRunConfig(engine=BacktestEngineConfig(environment=<Environment.BACKTEST: 'backtest'>, trader_id='BACKTESTER-001', cache=None, cache_database=None, data_engine=DataEngineConfig(debug=False), risk_engine=RiskEngineConfig(bypass=False, max_order_rate='100/00:00:01', max_notional_per_order={}, debug=False), exec_engine=ExecEngineConfig(load_cache=True, allow_cash_positions=True, debug=False), streaming=None, actors=[], strategies=[], load_state=False, save_state=False, loop_debug=False, log_level='INFO', bypass_logging=False, run_analysis=True), venues=[BacktestVenueConfig(name='BINANCE', oms_type='NETTING', account_type='CASH', starting_balances=['10000 BTC', '100000 USDT'], base_currency=None, default_leverage=1.0, leverages=None, book_type='L2_MBP', routing=False, frozen_account=False, reject_stop_orders=True)], data=[BacktestDataConfig(catalog_path='/Users/andrewgoldberg/opt/anaconda3/envs/web3/lib/python3.9/site-packages/nautilus_trader/examples/catalog', data_cls='nautilus_trader.model.orderbook.data:OrderBookDeltas', catalog_fs_protocol=None, catalog_fs_storage_options=None, instrument_id='BTCUSDT.BINANCE', start_time=None, end_time=None, filter_expr=None, client_id=None)], batch_size_bytes=None)]"
      ]
     },
     "execution_count": 51,
     "metadata": {},
     "output_type": "execute_result"
    }
   ],
   "source": [
    "\n",
    "node.configs"
   ]
  },
  {
   "cell_type": "code",
   "execution_count": 52,
   "metadata": {},
   "outputs": [],
   "source": [
    "node = BacktestNode(configs=[config])\n",
    "\n",
    "results = node.run()"
   ]
  },
  {
   "cell_type": "code",
   "execution_count": null,
   "metadata": {},
   "outputs": [],
   "source": []
  }
 ],
 "metadata": {
  "interpreter": {
   "hash": "55e1abd074c71c17ea9aa0e5e3b5358a934d2f007051cc43ea0f74fa47e5242d"
  },
  "kernelspec": {
   "display_name": "Python 3.9.10 ('web3')",
   "language": "python",
   "name": "python3"
  },
  "language_info": {
   "codemirror_mode": {
    "name": "ipython",
    "version": 3
   },
   "file_extension": ".py",
   "mimetype": "text/x-python",
   "name": "python",
   "nbconvert_exporter": "python",
   "pygments_lexer": "ipython3",
   "version": "3.9.10"
  },
  "orig_nbformat": 4
 },
 "nbformat": 4,
 "nbformat_minor": 2
}

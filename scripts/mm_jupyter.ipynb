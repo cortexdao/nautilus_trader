{
 "cells": [
  {
   "cell_type": "code",
   "execution_count": 1,
   "metadata": {},
   "outputs": [],
   "source": [
    "from decimal import Decimal\n",
    "from typing import Optional\n",
    "from collections import defaultdict\n",
    "import pandas as pd\n",
    "import os, shutil\n",
    "\n",
    "\n",
    "from nautilus_trader.model.orderbook.data import OrderBookData\n",
    "from nautilus_trader.model.identifiers import InstrumentId, Symbol, Venue\n",
    "from nautilus_trader.backtest.data.providers import TestInstrumentProvider\n",
    "from nautilus_trader.examples.strategies.market_maker import MarketMaker\n",
    "from nautilus_trader.backtest.engine import BacktestEngineConfig\n",
    "from nautilus_trader.model.identifiers import Venue\n",
    "from nautilus_trader.model.objects import Money\n",
    "from nautilus_trader.model.objects import Price\n",
    "from nautilus_trader.model.objects import Quantity\n",
    "from nautilus_trader.model.currencies import USDT, BTC, BNB\n",
    "from nautilus_trader.persistence.catalog import ParquetDataCatalog\n",
    "from nautilus_trader.backtest.node import BacktestNode, BacktestVenueConfig, BacktestDataConfig, BacktestRunConfig, BacktestEngineConfig\n",
    "from nautilus_trader.config.common import ImportableStrategyConfig, StrategyConfig\n",
    "from nautilus_trader.persistence.external.core import write_objects\n",
    "from nautilus_trader.model.instruments.currency_pair import CurrencyPair\n"
   ]
  },
  {
   "cell_type": "code",
   "execution_count": 2,
   "metadata": {},
   "outputs": [
    {
     "name": "stdout",
     "output_type": "stream",
     "text": [
      "                id native_symbol base_currency quote_currency  \\\n",
      "0  BTCUSDT.BINANCE       BTCUSDT           BTC           USDT   \n",
      "2  BNBUSDT.BINANCE       BNBUSDT           BTC            BNB   \n",
      "\n",
      "   price_precision  size_precision price_increment size_increment lot_size  \\\n",
      "0                2               6            0.01       0.000001      NaN   \n",
      "2                2               6            0.01       0.000001      NaN   \n",
      "\n",
      "  max_quantity  ...      min_notional   max_price min_price margin_init  \\\n",
      "0  9000.000000  ...  10.00000000 USDT  1000000.00      0.01           0   \n",
      "2  9000.000000  ...  10.00000000 USDT  1000000.00      0.01           0   \n",
      "\n",
      "  margin_maint maker_fee taker_fee  info ts_event ts_init  \n",
      "0            0     0.001     0.001  None        0       0  \n",
      "2            0     0.001     0.001  None        0       0  \n",
      "\n",
      "[2 rows x 22 columns]\n",
      "\n",
      "\u001b[1m2022-11-03T17:53:34.966505041Z\u001b[0m [INF] BACKTESTER-001.BacktestEngine: \u001b[36m=================================================================\u001b[0m\n",
      "\u001b[1m2022-11-03T17:53:34.966552250Z\u001b[0m [INF] BACKTESTER-001.BacktestEngine: \u001b[36m NAUTILUS TRADER - Automated Algorithmic Trading Platform\u001b[0m\n",
      "\u001b[1m2022-11-03T17:53:34.966557916Z\u001b[0m [INF] BACKTESTER-001.BacktestEngine: \u001b[36m by Nautech Systems Pty Ltd.\u001b[0m\n",
      "\u001b[1m2022-11-03T17:53:34.966560625Z\u001b[0m [INF] BACKTESTER-001.BacktestEngine: \u001b[36m Copyright (C) 2015-2022. All rights reserved.\u001b[0m\n",
      "\u001b[1m2022-11-03T17:53:34.966563125Z\u001b[0m [INF] BACKTESTER-001.BacktestEngine: \u001b[36m=================================================================\u001b[0m\n",
      "\u001b[1m2022-11-03T17:53:34.966567875Z\u001b[0m [INF] BACKTESTER-001.BacktestEngine: \u001b[0m\n",
      "\u001b[1m2022-11-03T17:53:34.966570333Z\u001b[0m [INF] BACKTESTER-001.BacktestEngine: ⠀⠀⠀⠀⠀⠀⠀⠀⠀⠀⠀⠀⠀⣠⣴⣶⡟⠀⠀⠀⠀⠀⠀⠀⠀⠀⠀⠀⠀⠀⠀\u001b[0m\n",
      "\u001b[1m2022-11-03T17:53:34.966573708Z\u001b[0m [INF] BACKTESTER-001.BacktestEngine: ⠀⠀⠀⠀⠀⠀⠀⠀⠀⠀⠀⣰⣾⣿⣿⣿⠀⢸⣿⣿⣿⣿⣶⣶⣤⣀⠀⠀⠀⠀⠀\u001b[0m\n",
      "\u001b[1m2022-11-03T17:53:34.9665765instrument loaded\n",
      "orderbook created\n",
      "substribed to order book\n",
      "net_qty: 0.300000\n",
      "net_qty: 0.300000\n"
     ]
    },
    {
     "name": "stderr",
     "output_type": "stream",
     "text": [
      "\u001b[1m2022-10-13T00:03:56.055000000Z\u001b[0m \u001b[1;31m[ERR] BACKTESTER-001.Portfolio: Cannot complete transaction: 0.00000000 BTC total balance is insufficient to deduct a -0.30000000 BTC realized PnL from.\u001b[0m\n"
     ]
    },
    {
     "name": "stdout",
     "output_type": "stream",
     "text": [
      "net_qty: 0.300000\n",
      "net_qty: 0.300000\n",
      "net_qty: 0.600000\n",
      "net_qty: 0.900000\n",
      "net_qty: 1.200000\n"
     ]
    }
   ],
   "source": [
    "instrument = CurrencyPair(\n",
    "        instrument_id=InstrumentId(\n",
    "            symbol=Symbol(\"BNBUSDT\"),\n",
    "            venue=Venue(\"BINANCE\"),\n",
    "        ),\n",
    "        native_symbol=Symbol(\"BNBUSDT\"),\n",
    "        base_currency=BNB,\n",
    "        quote_currency=USDT,\n",
    "        price_precision=2,\n",
    "        size_precision=6,\n",
    "        price_increment=Price(1e-02, precision=2),\n",
    "        size_increment=Quantity(1e-06, precision=6),\n",
    "        lot_size=None,\n",
    "        max_quantity=Quantity(9000, precision=6),\n",
    "        min_quantity=Quantity(1e-06, precision=6),\n",
    "        max_notional=None,\n",
    "        min_notional=Money(10.00000000, USDT),\n",
    "        max_price=Price(1000000, precision=2),\n",
    "        min_price=Price(0.01, precision=2),\n",
    "        margin_init=Decimal(0),\n",
    "        margin_maint=Decimal(0),\n",
    "        maker_fee=Decimal(\"0.001\"),\n",
    "        taker_fee=Decimal(\"0.001\"),\n",
    "        ts_event=0,\n",
    "        ts_init=0,\n",
    "    )\n",
    "BIN_BNBUSDT = instrument\n",
    "\n",
    "# CATALOG_PATH = os.getcwd() + \"/catalog\"\n",
    "CATALOG_PATH = '/Users/andrewgoldberg/opt/anaconda3/envs/web3/lib/python3.9/site-packages/nautilus_trader/examples/catalog'\n",
    "catalog = ParquetDataCatalog(CATALOG_PATH)\n",
    "\n",
    "# write_objects(catalog, [BIN_BTCUSDT])\n",
    "# print(f'catalog path: {CATALOG_PATH}')\n",
    "print(catalog.instruments())\n",
    "\n",
    "venues_config=[\n",
    "BacktestVenueConfig(\n",
    "    name=\"BINANCE\",\n",
    "    oms_type=\"NETTING\",\n",
    "    account_type=\"CASH\",\n",
    "    book_type=\"L2_MBP\",\n",
    "    # base_currency='BTC',  # Standard single-currency account\n",
    "    starting_balances=[\"100000 BNB\", \"100000 USDT\"],  # Single-currency or multi-currency accounts\n",
    ")\n",
    "]\n",
    "data_config=[\n",
    "    BacktestDataConfig(\n",
    "        # catalog_path=str(CATALOG_PATH),\n",
    "        catalog_path=str(catalog.path),\n",
    "        data_cls=str(OrderBookData.fully_qualified_name()),\n",
    "        instrument_id=BIN_BNBUSDT.id.value\n",
    "    )\n",
    "]\n",
    "strategy = MarketMaker\n",
    "strategy_config = ImportableStrategyConfig(\n",
    "    strategy_path=f\"{strategy.__module__}:{strategy.__name__}\",\n",
    "    config_path=f\"{strategy.__module__}:{strategy.__name__}Config\",\n",
    "    config=dict(\n",
    "        instrument_id = str(BIN_BNBUSDT.id.value),\n",
    "        trade_size = Decimal(0.3),\n",
    "        max_size = Decimal(400_000_000),\n",
    "        bid_spread = Decimal(0.01),\n",
    "        ask_spread = Decimal(0.02),\n",
    "    ),\n",
    "),\n",
    "engine_config = BacktestEngineConfig(\n",
    "    strategies=strategy_config,\n",
    "    # run_analysis=True,\n",
    "    run_streaming=True,\n",
    ")\n",
    "config = BacktestRunConfig(\n",
    "    engine=engine_config,\n",
    "    data=data_config,\n",
    "    venues=venues_config,\n",
    ")\n",
    "\n",
    "node = BacktestNode(configs=[config])\n",
    "\n",
    "results = node.run()"
   ]
  },
  {
   "cell_type": "code",
   "execution_count": 1,
   "metadata": {},
   "outputs": [
    {
     "ename": "NameError",
     "evalue": "name 'results' is not defined",
     "output_type": "error",
     "traceback": [
      "\u001b[0;31m---------------------------------------------------------------------------\u001b[0m",
      "\u001b[0;31mNameError\u001b[0m                                 Traceback (most recent call last)",
      "\u001b[0;32m/var/folders/c7/8ppmyxcn6znc4ql4nfmfksy80000gn/T/ipykernel_23755/962467392.py\u001b[0m in \u001b[0;36m<module>\u001b[0;34m\u001b[0m\n\u001b[0;32m----> 1\u001b[0;31m \u001b[0mresults\u001b[0m\u001b[0;34m\u001b[0m\u001b[0;34m\u001b[0m\u001b[0m\n\u001b[0m",
      "\u001b[0;31mNameError\u001b[0m: name 'results' is not defined"
     ]
    }
   ],
   "source": [
    "results"
   ]
  },
  {
   "cell_type": "code",
   "execution_count": null,
   "metadata": {},
   "outputs": [],
   "source": []
  }
 ],
 "metadata": {
  "interpreter": {
   "hash": "55e1abd074c71c17ea9aa0e5e3b5358a934d2f007051cc43ea0f74fa47e5242d"
  },
  "kernelspec": {
   "display_name": "Python 3.9.10 ('web3')",
   "language": "python",
   "name": "python3"
  },
  "language_info": {
   "codemirror_mode": {
    "name": "ipython",
    "version": 3
   },
   "file_extension": ".py",
   "mimetype": "text/x-python",
   "name": "python",
   "nbconvert_exporter": "python",
   "pygments_lexer": "ipython3",
   "version": "3.9.10"
  },
  "orig_nbformat": 4
 },
 "nbformat": 4,
 "nbformat_minor": 2
}
